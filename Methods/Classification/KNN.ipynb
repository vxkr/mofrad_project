{
  "nbformat": 4,
  "nbformat_minor": 0,
  "metadata": {
    "colab": {
      "name": "KNN.ipynb",
      "provenance": [],
      "collapsed_sections": []
    },
    "kernelspec": {
      "name": "python3",
      "display_name": "Python 3"
    }
  },
  "cells": [
    {
      "cell_type": "markdown",
      "metadata": {
        "id": "i3GlXFX15zjw",
        "colab_type": "text"
      },
      "source": [
        "## K Nearest Neighbors\n",
        "\n",
        "KNN is a classification ML algorithm that works with the following process:\n",
        "\n",
        "\n",
        "\n",
        "1.   Calculate the distance to every point\n",
        "2.   Choose the k closest points\n",
        "3.   Each point gets an equal vote for classifying the target point\n",
        "\n",
        "KNN can also be used for regression\n",
        "\n",
        "KNN is a simple example of a non-parametric model - a model which \"memorizes\"  \n",
        "all of the training data and uses it at test time.\n",
        "\n",
        "As such there is no training phase and all of training data is used, meaning  \n",
        "that the method is very computational expensive especially as the amount of  \n",
        "data increases.\n",
        "\n",
        "Let's look at an implementation of KNN from scratch:\n"
      ]
    },
    {
      "cell_type": "code",
      "metadata": {
        "id": "FyWo1-g_9m2w",
        "colab_type": "code",
        "colab": {}
      },
      "source": [
        "from collections import Counter\n",
        "import math\n",
        "import numpy as np"
      ],
      "execution_count": 0,
      "outputs": []
    },
    {
      "cell_type": "code",
      "metadata": {
        "id": "EzYGCrUg9zSS",
        "colab_type": "code",
        "colab": {}
      },
      "source": [
        "def mean(labels):\n",
        "  return np.sum(labels) / np.size(labels)\n",
        "\n",
        "def mode(labels):\n",
        "  return Counter(labels).most_common(1)[0][0]\n",
        "\n",
        "def eucl_dist(p1, p2):\n",
        "  axis_val = 0\n",
        "  if len(p1.shape) != 1:\n",
        "    axis_val = 1\n",
        "  return np.sqrt(np.sum(np.power(np.subtract(p1, p2), 2), axis = axis_val))"
      ],
      "execution_count": 0,
      "outputs": []
    },
    {
      "cell_type": "markdown",
      "metadata": {
        "id": "atS85KpcMtD9",
        "colab_type": "text"
      },
      "source": [
        "The above are helper methods to generalize the KNN algorithm that follows.\n",
        "\n",
        "As we see above, we've defined a distance function (Euclidean used here) and 2  \n",
        "choice functions:\n",
        "\n",
        "\n",
        "*   Mean will average the labels of the k nearest neighbors providing a  \n",
        "regression answer\n",
        "*   Mode will yield the most common label of the k nearest neighbors,  \n",
        "classifying the query data point\n",
        "\n"
      ]
    },
    {
      "cell_type": "code",
      "metadata": {
        "id": "ICgS9J9h9r3I",
        "colab_type": "code",
        "colab": {}
      },
      "source": [
        "def knn(data, query, k, distance_fn, choice_fn):\n",
        "  \n",
        "  data = np.asarray(data)\n",
        "\n",
        "  #strip labels, assumed to be last column of data\n",
        "  features = data[:,:-1]\n",
        "  labels = data[:,-1:].flatten()\n",
        "\n",
        "  distance = distance_fn(features, query)\n",
        "  \n",
        "  # if distance doesn't have the same length, distance_fn isn't properly vectorized\n",
        "  assert(len(distance) == len(data))\n",
        "\n",
        "  #sort features and labels by distance\n",
        "  inds = distance.argsort()\n",
        "  sort_feats = features[inds]\n",
        "  sort_labels = labels[inds]\n",
        "  \n",
        "  #return k closest indices, points and label\n",
        "  #choose label based on choice_fn, mode for classification, mean for regression\n",
        "  return dict(zip(inds[:k], sort_feats[:k])), choice_fn(sort_labels[:k])"
      ],
      "execution_count": 0,
      "outputs": []
    },
    {
      "cell_type": "markdown",
      "metadata": {
        "id": "gemNqutZPKyX",
        "colab_type": "text"
      },
      "source": [
        "A simple example follows (credit: https://towardsdatascience.com/machine-learning-basics-with-the-k-nearest-neighbors-algorithm-6a6e71d01761)"
      ]
    },
    {
      "cell_type": "code",
      "metadata": {
        "id": "jpcN-2Z6Ojrf",
        "colab_type": "code",
        "colab": {}
      },
      "source": [
        "#data with 1 feature, and last column as labels, 0 or 1\n",
        "clf_data = [\n",
        "       [22, 1],\n",
        "       [23, 1],\n",
        "       [21, 1],\n",
        "       [18, 1],\n",
        "       [19, 1],\n",
        "       [25, 0],\n",
        "       [27, 0],\n",
        "       [29, 0],\n",
        "       [31, 0],\n",
        "       [45, 0]]"
      ],
      "execution_count": 0,
      "outputs": []
    },
    {
      "cell_type": "markdown",
      "metadata": {
        "id": "QBDccqyYPZto",
        "colab_type": "text"
      },
      "source": [
        "We run KNN here with the eucledian distance function and as a classifier  \n",
        "(using mode instead of mean)."
      ]
    },
    {
      "cell_type": "code",
      "metadata": {
        "id": "5WW31CatOolW",
        "colab_type": "code",
        "colab": {}
      },
      "source": [
        "neigh, pred = knn(clf_data, [33], 3, eucl_dist, mode)"
      ],
      "execution_count": 0,
      "outputs": []
    },
    {
      "cell_type": "code",
      "metadata": {
        "id": "NWFPwZKPO4H9",
        "colab_type": "code",
        "outputId": "5c29f078-c6cd-43d7-a118-1984f4bb579f",
        "colab": {
          "base_uri": "https://localhost:8080/",
          "height": 53
        }
      },
      "source": [
        "print(\"The k closest points from the dataset to our query point:\")\n",
        "print(np.asarray(list(neigh.values())).flatten())"
      ],
      "execution_count": 0,
      "outputs": [
        {
          "output_type": "stream",
          "text": [
            "The k closest points from the dataset to our query point:\n",
            "[31 29 27]\n"
          ],
          "name": "stdout"
        }
      ]
    },
    {
      "cell_type": "code",
      "metadata": {
        "id": "Eb7XrwLxO5KK",
        "colab_type": "code",
        "outputId": "8aed4490-cc7d-4c53-86e6-0456feeb1012",
        "colab": {
          "base_uri": "https://localhost:8080/",
          "height": 53
        }
      },
      "source": [
        "print(\"Label classification for the query point:\")\n",
        "print(pred)"
      ],
      "execution_count": 0,
      "outputs": [
        {
          "output_type": "stream",
          "text": [
            "Label classification for the query point:\n",
            "0\n"
          ],
          "name": "stdout"
        }
      ]
    }
  ]
}