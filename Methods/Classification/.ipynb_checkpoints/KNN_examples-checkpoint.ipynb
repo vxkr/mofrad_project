{
 "cells": [
  {
   "cell_type": "markdown",
   "metadata": {
    "colab_type": "text",
    "id": "U_HRmGLAqJu2"
   },
   "source": [
    "# K Nearest Neighbors Examples\n",
    "\n",
    "Here we'll look at some examples and visualization of using the K nearest  \n",
    "neighbors algorithm.\n",
    "\n",
    "Let's start with the Iris dataset again  (which details some features of  \n",
    "leaves and a label)"
   ]
  },
  {
   "cell_type": "code",
   "execution_count": 0,
   "metadata": {
    "colab": {},
    "colab_type": "code",
    "id": "aE1cZxOXqF-Z"
   },
   "outputs": [],
   "source": [
    "import numpy as np\n",
    "import pandas as pd\n",
    "import matplotlib.pyplot as plt"
   ]
  },
  {
   "cell_type": "code",
   "execution_count": 3,
   "metadata": {
    "colab": {
     "base_uri": "https://localhost:8080/",
     "height": 204
    },
    "colab_type": "code",
    "id": "Mvqn1P5Gql3g",
    "outputId": "1e1148a8-6d08-4fef-a253-08a4b5212db9"
   },
   "outputs": [
    {
     "data": {
      "text/html": [
       "<div>\n",
       "<style scoped>\n",
       "    .dataframe tbody tr th:only-of-type {\n",
       "        vertical-align: middle;\n",
       "    }\n",
       "\n",
       "    .dataframe tbody tr th {\n",
       "        vertical-align: top;\n",
       "    }\n",
       "\n",
       "    .dataframe thead th {\n",
       "        text-align: right;\n",
       "    }\n",
       "</style>\n",
       "<table border=\"1\" class=\"dataframe\">\n",
       "  <thead>\n",
       "    <tr style=\"text-align: right;\">\n",
       "      <th></th>\n",
       "      <th>sepal-length</th>\n",
       "      <th>sepal-width</th>\n",
       "      <th>petal-length</th>\n",
       "      <th>petal-width</th>\n",
       "      <th>Class</th>\n",
       "    </tr>\n",
       "  </thead>\n",
       "  <tbody>\n",
       "    <tr>\n",
       "      <th>0</th>\n",
       "      <td>5.1</td>\n",
       "      <td>3.5</td>\n",
       "      <td>1.4</td>\n",
       "      <td>0.2</td>\n",
       "      <td>Iris-setosa</td>\n",
       "    </tr>\n",
       "    <tr>\n",
       "      <th>1</th>\n",
       "      <td>4.9</td>\n",
       "      <td>3.0</td>\n",
       "      <td>1.4</td>\n",
       "      <td>0.2</td>\n",
       "      <td>Iris-setosa</td>\n",
       "    </tr>\n",
       "    <tr>\n",
       "      <th>2</th>\n",
       "      <td>4.7</td>\n",
       "      <td>3.2</td>\n",
       "      <td>1.3</td>\n",
       "      <td>0.2</td>\n",
       "      <td>Iris-setosa</td>\n",
       "    </tr>\n",
       "    <tr>\n",
       "      <th>3</th>\n",
       "      <td>4.6</td>\n",
       "      <td>3.1</td>\n",
       "      <td>1.5</td>\n",
       "      <td>0.2</td>\n",
       "      <td>Iris-setosa</td>\n",
       "    </tr>\n",
       "    <tr>\n",
       "      <th>4</th>\n",
       "      <td>5.0</td>\n",
       "      <td>3.6</td>\n",
       "      <td>1.4</td>\n",
       "      <td>0.2</td>\n",
       "      <td>Iris-setosa</td>\n",
       "    </tr>\n",
       "  </tbody>\n",
       "</table>\n",
       "</div>"
      ],
      "text/plain": [
       "   sepal-length  sepal-width  petal-length  petal-width        Class\n",
       "0           5.1          3.5           1.4          0.2  Iris-setosa\n",
       "1           4.9          3.0           1.4          0.2  Iris-setosa\n",
       "2           4.7          3.2           1.3          0.2  Iris-setosa\n",
       "3           4.6          3.1           1.5          0.2  Iris-setosa\n",
       "4           5.0          3.6           1.4          0.2  Iris-setosa"
      ]
     },
     "execution_count": 3,
     "metadata": {
      "tags": []
     },
     "output_type": "execute_result"
    }
   ],
   "source": [
    "url = \"https://archive.ics.uci.edu/ml/machine-learning-databases/iris/iris.data\"\n",
    "\n",
    "# Assign colum names to the dataset\n",
    "names = ['sepal-length', 'sepal-width', 'petal-length', 'petal-width', 'Class']\n",
    "\n",
    "# Read dataset to pandas dataframe\n",
    "dataset = pd.read_csv(url, names=names)\n",
    "\n",
    "dataset.head()"
   ]
  },
  {
   "cell_type": "markdown",
   "metadata": {
    "colab_type": "text",
    "id": "XSxNjbKSquPK"
   },
   "source": [
    "Given this dataset, we need to do some basic data cleaning to easily apply KNN."
   ]
  },
  {
   "cell_type": "code",
   "execution_count": 0,
   "metadata": {
    "colab": {},
    "colab_type": "code",
    "id": "B1eHiP2qrF2p"
   },
   "outputs": [],
   "source": [
    "X = dataset.iloc[:, :-1].values\n",
    "y = dataset.iloc[:,-1].values"
   ]
  },
  {
   "cell_type": "markdown",
   "metadata": {
    "colab_type": "text",
    "id": "xoYPQTw9rd_6"
   },
   "source": [
    "A commonly applied practice in ML is to randomly split our data into training  \n",
    "and testing sets. While KNN is a non-parametric model, this is still good  \n",
    "practice (when we test our model, our test points won't already be in the model)."
   ]
  },
  {
   "cell_type": "code",
   "execution_count": 0,
   "metadata": {
    "colab": {},
    "colab_type": "code",
    "id": "Hebrv3bprW5U"
   },
   "outputs": [],
   "source": [
    "from sklearn.model_selection import train_test_split\n",
    "X_train, X_test, y_train, y_test = train_test_split(X, y, test_size=0.20)"
   ]
  },
  {
   "cell_type": "markdown",
   "metadata": {
    "colab_type": "text",
    "id": "v8XGlljusRBa"
   },
   "source": [
    "Another good practice, especially applicable to KNN, is to normalize our  \n",
    "features. This factors into the evaluation of the Euclidean distances that  \n",
    "will be a core component of the KNN algorithm - normalizing prevents features  \n",
    "with larger ranges from overinfluencing the classification."
   ]
  },
  {
   "cell_type": "code",
   "execution_count": 0,
   "metadata": {
    "colab": {},
    "colab_type": "code",
    "id": "2Syx-4dVsIwE"
   },
   "outputs": [],
   "source": [
    "from sklearn.preprocessing import StandardScaler\n",
    "scaler = StandardScaler()\n",
    "scaler.fit(X_train)\n",
    "\n",
    "X_train = scaler.transform(X_train)\n",
    "X_test = scaler.transform(X_test)"
   ]
  },
  {
   "cell_type": "markdown",
   "metadata": {
    "colab_type": "text",
    "id": "_xS5QZoIs-8U"
   },
   "source": [
    "The KNN python notebook details an implentation from scratch, but as is the  \n",
    "case often in practice, we'll use an out of the box method."
   ]
  },
  {
   "cell_type": "code",
   "execution_count": 0,
   "metadata": {
    "colab": {},
    "colab_type": "code",
    "id": "CjMNoYmntPgc"
   },
   "outputs": [],
   "source": [
    "from sklearn.neighbors import KNeighborsClassifier\n",
    "classifier = KNeighborsClassifier(n_neighbors=5)\n",
    "classifier.fit(X_train, y_train)\n",
    "y_pred = classifier.predict(X_test)"
   ]
  },
  {
   "cell_type": "markdown",
   "metadata": {
    "colab_type": "text",
    "id": "SlFqBUhdtjLx"
   },
   "source": [
    "Now y_pred refers to the predicted labels from our KNN classifier with 5  \n",
    "neighbors carried out on the training set partition. We check the accuracy of  \n",
    "this prediction by comparing to y_test."
   ]
  },
  {
   "cell_type": "code",
   "execution_count": 8,
   "metadata": {
    "colab": {
     "base_uri": "https://localhost:8080/",
     "height": 51
    },
    "colab_type": "code",
    "id": "LeKNFsuCtYmr",
    "outputId": "443e25db-d1fe-43f9-ec0b-f4ae35eab97d"
   },
   "outputs": [
    {
     "name": "stdout",
     "output_type": "stream",
     "text": [
      "Accuracy of KNN classifier with 5 neighbors:\n",
      "86.66 % with 30 test points\n"
     ]
    }
   ],
   "source": [
    "print(\"Accuracy of KNN classifier with 5 neighbors:\")\n",
    "accuracy = np.count_nonzero(y_pred == y_test) / len(y_test)\n",
    "accuracy = int(accuracy * 10000) / 100\n",
    "print(accuracy, \"% with\", len(y_test), \"test points\")"
   ]
  },
  {
   "cell_type": "markdown",
   "metadata": {
    "colab_type": "text",
    "id": "iMKnc_HCu8Tm"
   },
   "source": [
    "Again we can easily use an out of the box method to check the results of our  \n",
    "classifier."
   ]
  },
  {
   "cell_type": "code",
   "execution_count": 9,
   "metadata": {
    "colab": {
     "base_uri": "https://localhost:8080/",
     "height": 238
    },
    "colab_type": "code",
    "id": "TN8CFp_quY9n",
    "outputId": "8e96d254-6e18-46ef-dc1c-18be42ca9306"
   },
   "outputs": [
    {
     "name": "stdout",
     "output_type": "stream",
     "text": [
      "[[ 8  0  0]\n",
      " [ 0  7  1]\n",
      " [ 0  3 11]]\n",
      "                 precision    recall  f1-score   support\n",
      "\n",
      "    Iris-setosa       1.00      1.00      1.00         8\n",
      "Iris-versicolor       0.70      0.88      0.78         8\n",
      " Iris-virginica       0.92      0.79      0.85        14\n",
      "\n",
      "       accuracy                           0.87        30\n",
      "      macro avg       0.87      0.89      0.87        30\n",
      "   weighted avg       0.88      0.87      0.87        30\n",
      "\n"
     ]
    }
   ],
   "source": [
    "from sklearn.metrics import classification_report, confusion_matrix\n",
    "print(confusion_matrix(y_test, y_pred))\n",
    "print(classification_report(y_test, y_pred))"
   ]
  },
  {
   "cell_type": "markdown",
   "metadata": {
    "colab_type": "text",
    "id": "7YCuxtXRvW7j"
   },
   "source": [
    "The confusion matrix essentially describes the false positives/negatives and  \n",
    "correct classifications into the labels. The left axis refers to true label  \n",
    "while the right axis refers to labels our classifier outputted for the test  \n",
    "points.Thus we can interpret the confusion matrix and see that two of the  \n",
    "*versicolor* labelled test points were confused for *virginica*."
   ]
  },
  {
   "cell_type": "markdown",
   "metadata": {
    "colab_type": "text",
    "id": "Qveb-SOOwNl2"
   },
   "source": [
    "### Determining K\n",
    "\n",
    "In the example above, we used k = 5 as the number of nearest neighbors to  \n",
    "compare with. However, this k value is a **hyperparameter** - it isn't  \n",
    "something determined by the algorithms but instead is something we set before  \n",
    "the algorithm is run. It also has a very large influence on the accuracy of KNN.\n",
    "\n",
    "Let's try some experiments and then interpret the results in terms of theory.  \n",
    "In practice, the exact number used would be decided using a training and  \n",
    "validation set, with the algorithm run on the training with different k values,  \n",
    "and determining the best value for k based on scores on the validation set(s).  \n",
    "Finally to evaluate the model it would be run on test set. (In the following  \n",
    "we're effectively not carrying out the final testing step as it should never be  \n",
    "used to determine the model / hyperparameters)."
   ]
  },
  {
   "cell_type": "code",
   "execution_count": 0,
   "metadata": {
    "colab": {},
    "colab_type": "code",
    "id": "WjO4tswmxLxM"
   },
   "outputs": [],
   "source": [
    "error = []\n",
    "\n",
    "# Calculating error for K values between 1 and 40\n",
    "for i in range(1, 40):\n",
    "    knn = KNeighborsClassifier(n_neighbors=i)\n",
    "    knn.fit(X_train, y_train)\n",
    "    pred_i = knn.predict(X_test)\n",
    "    error.append(np.mean(pred_i != y_test))"
   ]
  },
  {
   "cell_type": "code",
   "execution_count": 11,
   "metadata": {
    "colab": {
     "base_uri": "https://localhost:8080/",
     "height": 421
    },
    "colab_type": "code",
    "id": "A3j0cC5FxRTi",
    "outputId": "77adf381-acd4-4852-8451-1d96fce1f8c0"
   },
   "outputs": [
    {
     "data": {
      "text/plain": [
       "Text(0, 0.5, 'Mean Error')"
      ]
     },
     "execution_count": 11,
     "metadata": {
      "tags": []
     },
     "output_type": "execute_result"
    },
    {
     "data": {
      "image/png": "[encoded data removed]",
      "text/plain": [
       "<Figure size 720x432 with 1 Axes>"
      ]
     },
     "metadata": {
      "tags": []
     },
     "output_type": "display_data"
    }
   ],
   "source": [
    "plt.figure(figsize=(10, 6))\n",
    "plt.plot(range(1, 40), error, color='red', linestyle='dashed', marker='o',\n",
    "         markerfacecolor='blue', markersize=10)\n",
    "plt.title('Error Rate K Value')\n",
    "plt.xlabel('K Value')\n",
    "plt.ylabel('Mean Error')"
   ]
  },
  {
   "cell_type": "markdown",
   "metadata": {
    "colab_type": "text",
    "id": "nOKFjeLLxlQu"
   },
   "source": [
    "As we see above, there are a few K values that result in a 0 error. This is  \n",
    "because our dataset is very neatly organized and simple and KNN is a fairly  \n",
    "powerful classifier despite being so straightforward. However, even here we  \n",
    "see some generalities of how different values for k can influence our  \n",
    "classification.\n",
    "\n",
    "First, consider low k. Starting with k = 1, we know that if the test point is  \n",
    "in the training set, it would \"find\" itself and thus always be completely  \n",
    "accurate. If it doesn't exist, it would just look for the closest point and use  \n",
    "its label.\n",
    "\n",
    "While this could be very accurate (especially if the test point already was  \n",
    "used when training the model), outliers would not be mitigated at all in this  \n",
    "approach, Increasing k would allow our model to be less sensitive to outliers. \n",
    "\n",
    "\n",
    "Consider:\n",
    "\n",
    "\n",
    "*   A region with several points with label 1\n",
    "*   In it, an outlier with label 0\n",
    "*   Increasing K forces a point placed in that region to look past that  \n",
    "outlier and at the other K-1 nearest neighbors\n",
    "\n",
    "However, if we keep increasing K and as we approach N (the number of points in  \n",
    "the training data set), we end up overruling regions. At K = N, we assign  \n",
    "every point the more frequent label in the training data set, which depending  \n",
    "on the underlying distribution, could yield a very high error.\n",
    "\n",
    "Such pitfalls can easily be avoided with a little bit of mindful selection and  \n",
    "some validation to determine a good value for K.\n",
    "\n"
   ]
  },
  {
   "cell_type": "markdown",
   "metadata": {
    "colab_type": "text",
    "id": "Fd5Z68173cZA"
   },
   "source": [
    "Source: https://stackabuse.com/k-nearest-neighbors-algorithm-in-python-and-scikit-learn/"
   ]
  }
 ],
 "metadata": {
  "colab": {
   "collapsed_sections": [],
   "name": "KNN_examples.ipynb",
   "provenance": []
  },
  "kernelspec": {
   "display_name": "Python 3",
   "language": "python",
   "name": "python3"
  },
  "language_info": {
   "codemirror_mode": {
    "name": "ipython",
    "version": 3
   },
   "file_extension": ".py",
   "mimetype": "text/x-python",
   "name": "python",
   "nbconvert_exporter": "python",
   "pygments_lexer": "ipython3",
   "version": "3.7.4"
  }
 },
 "nbformat": 4,
 "nbformat_minor": 1
}
