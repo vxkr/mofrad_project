{
 "cells": [
  {
   "cell_type": "markdown",
   "metadata": {
    "colab_type": "text",
    "id": "i3GlXFX15zjw"
   },
   "source": [
    "# K Nearest Neighbors\n",
    "\n",
    "KNN is a classification ML algorithm that works with the following process:\n",
    "\n",
    "\n",
    "\n",
    "1.   Calculate the distance to every point\n",
    "2.   Choose the k closest points\n",
    "3.   Each point gets an equal vote for classifying the target point\n",
    "\n",
    "KNN can also be used for regression\n",
    "\n",
    "KNN is a simple example of a non-parametric model - a model which \"memorizes\"  \n",
    "all of the training data and uses it at test time.\n",
    "\n",
    "As such there is no training phase and all of training data is used, meaning  \n",
    "that the method is very computational expensive especially as the amount of  \n",
    "data increases.\n",
    "\n",
    "Let's look at an implementation of KNN from scratch:\n"
   ]
  },
  {
   "cell_type": "code",
   "execution_count": 0,
   "metadata": {
    "colab": {},
    "colab_type": "code",
    "id": "FyWo1-g_9m2w"
   },
   "outputs": [],
   "source": [
    "from collections import Counter\n",
    "import math\n",
    "import numpy as np"
   ]
  },
  {
   "cell_type": "code",
   "execution_count": 0,
   "metadata": {
    "colab": {},
    "colab_type": "code",
    "id": "EzYGCrUg9zSS"
   },
   "outputs": [],
   "source": [
    "def mean(labels):\n",
    "  return np.sum(labels) / np.size(labels)\n",
    "\n",
    "def mode(labels):\n",
    "  return Counter(labels).most_common(1)[0][0]\n",
    "\n",
    "def eucl_dist(p1, p2):\n",
    "  axis_val = 0\n",
    "  if len(p1.shape) != 1:\n",
    "    axis_val = 1\n",
    "  return np.sqrt(np.sum(np.power(np.subtract(p1, p2), 2), axis = axis_val))"
   ]
  },
  {
   "cell_type": "markdown",
   "metadata": {
    "colab_type": "text",
    "id": "atS85KpcMtD9"
   },
   "source": [
    "The above are helper methods to generalize the KNN algorithm that follows.\n",
    "\n",
    "As we see above, we've defined a distance function (Euclidean used here) and 2  \n",
    "choice functions:\n",
    "\n",
    "\n",
    "*   Mean will average the labels of the k nearest neighbors providing a  \n",
    "regression answer\n",
    "*   Mode will yield the most common label of the k nearest neighbors,  \n",
    "classifying the query data point\n",
    "\n"
   ]
  },
  {
   "cell_type": "code",
   "execution_count": 0,
   "metadata": {
    "colab": {},
    "colab_type": "code",
    "id": "ICgS9J9h9r3I"
   },
   "outputs": [],
   "source": [
    "def knn(data, query, k, distance_fn, choice_fn):\n",
    "  \n",
    "  data = np.asarray(data)\n",
    "\n",
    "  #strip labels, assumed to be last column of data\n",
    "  features = data[:,:-1]\n",
    "  labels = data[:,-1:].flatten()\n",
    "\n",
    "  distance = distance_fn(features, query)\n",
    "  \n",
    "  # if distance doesn't have the same length, distance_fn isn't properly vectorized\n",
    "  assert(len(distance) == len(data))\n",
    "\n",
    "  #sort features and labels by distance\n",
    "  inds = distance.argsort()\n",
    "  sort_feats = features[inds]\n",
    "  sort_labels = labels[inds]\n",
    "  \n",
    "  #return k closest indices, points and label\n",
    "  #choose label based on choice_fn, mode for classification, mean for regression\n",
    "  return dict(zip(inds[:k], sort_feats[:k])), choice_fn(sort_labels[:k])"
   ]
  },
  {
   "cell_type": "markdown",
   "metadata": {
    "colab_type": "text",
    "id": "gemNqutZPKyX"
   },
   "source": [
    "A simple example follows (credit: https://towardsdatascience.com/machine-learning-basics-with-the-k-nearest-neighbors-algorithm-6a6e71d01761)"
   ]
  },
  {
   "cell_type": "code",
   "execution_count": 0,
   "metadata": {
    "colab": {},
    "colab_type": "code",
    "id": "jpcN-2Z6Ojrf"
   },
   "outputs": [],
   "source": [
    "#data with 1 feature, and last column as labels, 0 or 1\n",
    "clf_data = [\n",
    "       [22, 1],\n",
    "       [23, 1],\n",
    "       [21, 1],\n",
    "       [18, 1],\n",
    "       [19, 1],\n",
    "       [25, 0],\n",
    "       [27, 0],\n",
    "       [29, 0],\n",
    "       [31, 0],\n",
    "       [45, 0]]"
   ]
  },
  {
   "cell_type": "markdown",
   "metadata": {
    "colab_type": "text",
    "id": "QBDccqyYPZto"
   },
   "source": [
    "We run KNN here with the eucledian distance function and as a classifier  \n",
    "(using mode instead of mean)."
   ]
  },
  {
   "cell_type": "code",
   "execution_count": 0,
   "metadata": {
    "colab": {},
    "colab_type": "code",
    "id": "5WW31CatOolW"
   },
   "outputs": [],
   "source": [
    "neigh, pred = knn(clf_data, [33], 3, eucl_dist, mode)"
   ]
  },
  {
   "cell_type": "code",
   "execution_count": 0,
   "metadata": {
    "colab": {
     "base_uri": "https://localhost:8080/",
     "height": 53
    },
    "colab_type": "code",
    "id": "NWFPwZKPO4H9",
    "outputId": "5c29f078-c6cd-43d7-a118-1984f4bb579f"
   },
   "outputs": [
    {
     "name": "stdout",
     "output_type": "stream",
     "text": [
      "The k closest points from the dataset to our query point:\n",
      "[31 29 27]\n"
     ]
    }
   ],
   "source": [
    "print(\"The k closest points from the dataset to our query point:\")\n",
    "print(np.asarray(list(neigh.values())).flatten())"
   ]
  },
  {
   "cell_type": "code",
   "execution_count": 0,
   "metadata": {
    "colab": {
     "base_uri": "https://localhost:8080/",
     "height": 53
    },
    "colab_type": "code",
    "id": "Eb7XrwLxO5KK",
    "outputId": "8aed4490-cc7d-4c53-86e6-0456feeb1012"
   },
   "outputs": [
    {
     "name": "stdout",
     "output_type": "stream",
     "text": [
      "Label classification for the query point:\n",
      "0\n"
     ]
    }
   ],
   "source": [
    "print(\"Label classification for the query point:\")\n",
    "print(pred)"
   ]
  }
 ],
 "metadata": {
  "colab": {
   "collapsed_sections": [],
   "name": "KNN.ipynb",
   "provenance": []
  },
  "kernelspec": {
   "display_name": "Python 3",
   "language": "python",
   "name": "python3"
  },
  "language_info": {
   "codemirror_mode": {
    "name": "ipython",
    "version": 3
   },
   "file_extension": ".py",
   "mimetype": "text/x-python",
   "name": "python",
   "nbconvert_exporter": "python",
   "pygments_lexer": "ipython3",
   "version": "3.7.4"
  }
 },
 "nbformat": 4,
 "nbformat_minor": 1
}
