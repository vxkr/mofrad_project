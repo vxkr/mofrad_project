{
  "nbformat": 4,
  "nbformat_minor": 0,
  "metadata": {
    "colab": {
      "name": "KNN_examples.ipynb",
      "provenance": [],
      "collapsed_sections": []
    },
    "kernelspec": {
      "name": "python3",
      "display_name": "Python 3"
    }
  },
  "cells": [
    {
      "cell_type": "markdown",
      "metadata": {
        "id": "U_HRmGLAqJu2",
        "colab_type": "text"
      },
      "source": [
        "## KNN Examples\n",
        "\n",
        "Here we'll look at some examples and visualization of using the K nearest neighbors algorithm.\n",
        "\n",
        "Let's start with the Iris dataset again  (which details some features of leaves and a label)"
      ]
    },
    {
      "cell_type": "code",
      "metadata": {
        "id": "aE1cZxOXqF-Z",
        "colab_type": "code",
        "colab": {}
      },
      "source": [
        "import numpy as np\n",
        "import pandas as pd\n",
        "import matplotlib.pyplot as plt"
      ],
      "execution_count": 0,
      "outputs": []
    },
    {
      "cell_type": "code",
      "metadata": {
        "id": "Mvqn1P5Gql3g",
        "colab_type": "code",
        "colab": {
          "base_uri": "https://localhost:8080/",
          "height": 197
        },
        "outputId": "a91c9476-d41b-431f-b72c-7289cbc4fcb5"
      },
      "source": [
        "url = \"https://archive.ics.uci.edu/ml/machine-learning-databases/iris/iris.data\"\n",
        "\n",
        "# Assign colum names to the dataset\n",
        "names = ['sepal-length', 'sepal-width', 'petal-length', 'petal-width', 'Class']\n",
        "\n",
        "# Read dataset to pandas dataframe\n",
        "dataset = pd.read_csv(url, names=names)\n",
        "\n",
        "dataset.head()"
      ],
      "execution_count": 3,
      "outputs": [
        {
          "output_type": "execute_result",
          "data": {
            "text/html": [
              "<div>\n",
              "<style scoped>\n",
              "    .dataframe tbody tr th:only-of-type {\n",
              "        vertical-align: middle;\n",
              "    }\n",
              "\n",
              "    .dataframe tbody tr th {\n",
              "        vertical-align: top;\n",
              "    }\n",
              "\n",
              "    .dataframe thead th {\n",
              "        text-align: right;\n",
              "    }\n",
              "</style>\n",
              "<table border=\"1\" class=\"dataframe\">\n",
              "  <thead>\n",
              "    <tr style=\"text-align: right;\">\n",
              "      <th></th>\n",
              "      <th>sepal-length</th>\n",
              "      <th>sepal-width</th>\n",
              "      <th>petal-length</th>\n",
              "      <th>petal-width</th>\n",
              "      <th>Class</th>\n",
              "    </tr>\n",
              "  </thead>\n",
              "  <tbody>\n",
              "    <tr>\n",
              "      <th>0</th>\n",
              "      <td>5.1</td>\n",
              "      <td>3.5</td>\n",
              "      <td>1.4</td>\n",
              "      <td>0.2</td>\n",
              "      <td>Iris-setosa</td>\n",
              "    </tr>\n",
              "    <tr>\n",
              "      <th>1</th>\n",
              "      <td>4.9</td>\n",
              "      <td>3.0</td>\n",
              "      <td>1.4</td>\n",
              "      <td>0.2</td>\n",
              "      <td>Iris-setosa</td>\n",
              "    </tr>\n",
              "    <tr>\n",
              "      <th>2</th>\n",
              "      <td>4.7</td>\n",
              "      <td>3.2</td>\n",
              "      <td>1.3</td>\n",
              "      <td>0.2</td>\n",
              "      <td>Iris-setosa</td>\n",
              "    </tr>\n",
              "    <tr>\n",
              "      <th>3</th>\n",
              "      <td>4.6</td>\n",
              "      <td>3.1</td>\n",
              "      <td>1.5</td>\n",
              "      <td>0.2</td>\n",
              "      <td>Iris-setosa</td>\n",
              "    </tr>\n",
              "    <tr>\n",
              "      <th>4</th>\n",
              "      <td>5.0</td>\n",
              "      <td>3.6</td>\n",
              "      <td>1.4</td>\n",
              "      <td>0.2</td>\n",
              "      <td>Iris-setosa</td>\n",
              "    </tr>\n",
              "  </tbody>\n",
              "</table>\n",
              "</div>"
            ],
            "text/plain": [
              "   sepal-length  sepal-width  petal-length  petal-width        Class\n",
              "0           5.1          3.5           1.4          0.2  Iris-setosa\n",
              "1           4.9          3.0           1.4          0.2  Iris-setosa\n",
              "2           4.7          3.2           1.3          0.2  Iris-setosa\n",
              "3           4.6          3.1           1.5          0.2  Iris-setosa\n",
              "4           5.0          3.6           1.4          0.2  Iris-setosa"
            ]
          },
          "metadata": {
            "tags": []
          },
          "execution_count": 3
        }
      ]
    },
    {
      "cell_type": "markdown",
      "metadata": {
        "id": "XSxNjbKSquPK",
        "colab_type": "text"
      },
      "source": [
        "Given this dataset, we need to do some basic data cleaning to easily apply KNN."
      ]
    },
    {
      "cell_type": "code",
      "metadata": {
        "id": "B1eHiP2qrF2p",
        "colab_type": "code",
        "colab": {}
      },
      "source": [
        "X = dataset.iloc[:, :-1].values\n",
        "y = dataset.iloc[:,-1].values"
      ],
      "execution_count": 0,
      "outputs": []
    },
    {
      "cell_type": "markdown",
      "metadata": {
        "id": "xoYPQTw9rd_6",
        "colab_type": "text"
      },
      "source": [
        "A commonly applied practice in ML is to randomly split our data into training and testing sets. While KNN is a non-parametric model, this is still good practice (when we test our model, our test points won't already be in the model)."
      ]
    },
    {
      "cell_type": "code",
      "metadata": {
        "id": "Hebrv3bprW5U",
        "colab_type": "code",
        "colab": {}
      },
      "source": [
        "from sklearn.model_selection import train_test_split\n",
        "X_train, X_test, y_train, y_test = train_test_split(X, y, test_size=0.20)"
      ],
      "execution_count": 0,
      "outputs": []
    },
    {
      "cell_type": "markdown",
      "metadata": {
        "id": "v8XGlljusRBa",
        "colab_type": "text"
      },
      "source": [
        "Another good practice, especially applicable to KNN, is to normalize our features. This factors into the evaluation of the Euclidean distances that will be a core component of the KNN algorithm - normalizing prevents features with larger ranges from overinfluencing the classification."
      ]
    },
    {
      "cell_type": "code",
      "metadata": {
        "id": "2Syx-4dVsIwE",
        "colab_type": "code",
        "colab": {}
      },
      "source": [
        "from sklearn.preprocessing import StandardScaler\n",
        "scaler = StandardScaler()\n",
        "scaler.fit(X_train)\n",
        "\n",
        "X_train = scaler.transform(X_train)\n",
        "X_test = scaler.transform(X_test)"
      ],
      "execution_count": 0,
      "outputs": []
    },
    {
      "cell_type": "markdown",
      "metadata": {
        "id": "_xS5QZoIs-8U",
        "colab_type": "text"
      },
      "source": [
        "The KNN python notebook details an implentation from scratch, but as is the case often in practice, we'll use an out of the box method."
      ]
    },
    {
      "cell_type": "code",
      "metadata": {
        "id": "CjMNoYmntPgc",
        "colab_type": "code",
        "colab": {}
      },
      "source": [
        "from sklearn.neighbors import KNeighborsClassifier\n",
        "classifier = KNeighborsClassifier(n_neighbors=5)\n",
        "classifier.fit(X_train, y_train)\n",
        "y_pred = classifier.predict(X_test)"
      ],
      "execution_count": 0,
      "outputs": []
    },
    {
      "cell_type": "markdown",
      "metadata": {
        "id": "SlFqBUhdtjLx",
        "colab_type": "text"
      },
      "source": [
        "Now y_pred refers to the predicted labels from our KNN classifier with 5 neighbors carried out on the training set partition. We check the accuracy of this prediction by comparing to y_test."
      ]
    },
    {
      "cell_type": "code",
      "metadata": {
        "id": "LeKNFsuCtYmr",
        "colab_type": "code",
        "colab": {
          "base_uri": "https://localhost:8080/",
          "height": 53
        },
        "outputId": "e8d054a0-13c7-4fda-b851-02e5d4dc7514"
      },
      "source": [
        "print(\"Accuracy of KNN classifier with 5 neighbors:\")\n",
        "accuracy = np.count_nonzero(y_pred == y_test) / len(y_test)\n",
        "accuracy = int(accuracy * 10000) / 100\n",
        "print(accuracy, \"% with\", len(y_test), \"test points\")"
      ],
      "execution_count": 15,
      "outputs": [
        {
          "output_type": "stream",
          "text": [
            "Accuracy of KNN classifier with 5 neighbors:\n",
            "90.0 % with 30 test points\n"
          ],
          "name": "stdout"
        }
      ]
    },
    {
      "cell_type": "markdown",
      "metadata": {
        "id": "iMKnc_HCu8Tm",
        "colab_type": "text"
      },
      "source": [
        "Again we can easily use an out of the box method to check the results of our classifier."
      ]
    },
    {
      "cell_type": "code",
      "metadata": {
        "id": "TN8CFp_quY9n",
        "colab_type": "code",
        "colab": {
          "base_uri": "https://localhost:8080/",
          "height": 253
        },
        "outputId": "238f56da-a803-4c54-f73a-071c56307e8c"
      },
      "source": [
        "from sklearn.metrics import classification_report, confusion_matrix\n",
        "print(confusion_matrix(y_test, y_pred))\n",
        "print(classification_report(y_test, y_pred))"
      ],
      "execution_count": 16,
      "outputs": [
        {
          "output_type": "stream",
          "text": [
            "[[10  1  0]\n",
            " [ 0  7  2]\n",
            " [ 0  0 10]]\n",
            "                 precision    recall  f1-score   support\n",
            "\n",
            "    Iris-setosa       1.00      0.91      0.95        11\n",
            "Iris-versicolor       0.88      0.78      0.82         9\n",
            " Iris-virginica       0.83      1.00      0.91        10\n",
            "\n",
            "       accuracy                           0.90        30\n",
            "      macro avg       0.90      0.90      0.90        30\n",
            "   weighted avg       0.91      0.90      0.90        30\n",
            "\n"
          ],
          "name": "stdout"
        }
      ]
    },
    {
      "cell_type": "markdown",
      "metadata": {
        "id": "7YCuxtXRvW7j",
        "colab_type": "text"
      },
      "source": [
        "The confusion matrix essentially describes the false positives/negatives and correct classifications into the labels. The left axis refers to true label while the right axis refers to labels our classifier outputted for the test points.Thus we can interpret the confusion matrix and see that two of the *versicolor* labelled test points were confused for *virginica*."
      ]
    },
    {
      "cell_type": "markdown",
      "metadata": {
        "id": "Qveb-SOOwNl2",
        "colab_type": "text"
      },
      "source": [
        "### Determining K\n",
        "\n",
        "In the example above, we used k = 5 as the number of nearest neighbors to compare with. However, this k value is a **hyperparameter** - it isn't something determined by the algorithms but instead is something we set before the algorithm is run. It also has a very large influence on the accuracy of KNN.\n",
        "\n",
        "Let's try some experiments and then interpret the results in terms of theory. In practice, the exact number used would be decided using a training and validation set, with the algorithm run on the training with different k values, and determining the best value for k based on scores on the validation set(s). Finally to evaluate the model it would be run on test set. (In the following we're effectively not carrying out the final testing step as it should never be used to determine the model / hyperparameters)."
      ]
    },
    {
      "cell_type": "code",
      "metadata": {
        "id": "WjO4tswmxLxM",
        "colab_type": "code",
        "colab": {}
      },
      "source": [
        "error = []\n",
        "\n",
        "# Calculating error for K values between 1 and 40\n",
        "for i in range(1, 40):\n",
        "    knn = KNeighborsClassifier(n_neighbors=i)\n",
        "    knn.fit(X_train, y_train)\n",
        "    pred_i = knn.predict(X_test)\n",
        "    error.append(np.mean(pred_i != y_test))"
      ],
      "execution_count": 0,
      "outputs": []
    },
    {
      "cell_type": "code",
      "metadata": {
        "id": "A3j0cC5FxRTi",
        "colab_type": "code",
        "colab": {
          "base_uri": "https://localhost:8080/",
          "height": 422
        },
        "outputId": "933b906d-0151-438c-cdf3-10a56b1cf454"
      },
      "source": [
        "plt.figure(figsize=(12, 6))\n",
        "plt.plot(range(1, 40), error, color='red', linestyle='dashed', marker='o',\n",
        "         markerfacecolor='blue', markersize=10)\n",
        "plt.title('Error Rate K Value')\n",
        "plt.xlabel('K Value')\n",
        "plt.ylabel('Mean Error')"
      ],
      "execution_count": 18,
      "outputs": [
        {
          "output_type": "execute_result",
          "data": {
            "text/plain": [
              "Text(0, 0.5, 'Mean Error')"
            ]
          },
          "metadata": {
            "tags": []
          },
          "execution_count": 18
        },
        {
          "output_type": "display_data",
          "data": {
            "image/png": "[encoded data removed]",
            "text/plain": [
              "<Figure size 864x432 with 1 Axes>"
            ]
          },
          "metadata": {
            "tags": []
          }
        }
      ]
    },
    {
      "cell_type": "markdown",
      "metadata": {
        "id": "nOKFjeLLxlQu",
        "colab_type": "text"
      },
      "source": [
        "As we see above, there are a few K values that result in a 0 error. This is because our dataset is very neatly organized and simple and KNN is a fairly powerful classifier despite being so straightforward. However, even here we see some generalities of how different values for k can influence our classification.\n",
        "\n",
        "First, consider low k. Starting with k = 1, we know that if the test point is in the training set, it would \"find\" itself and thus always be completely accurate. If it doesn't exist, it would just look for the closest point and use its label.\n",
        "\n",
        "While this could be very accurate (especially if the test point already was used when training the model), outliers would not be mitigated at all in this approach, Increasing k would allow our model to be less sensitive to outliers.\n",
        "\n",
        "Consider:\n",
        "\n",
        "\n",
        "*   A region with several points with label 1\n",
        "*   In it, an outlier with label 0\n",
        "*   Increasing K forces a point placed in that region to look past that outlier and at the other K-1 nearest neighbors\n",
        "\n",
        "However, if we keep increasing K and as we approach N (the number of points in the training data set), we end up overruling regions. At K = N, we assign every point the more frequent label in the training data set, which depending on the udnerlying distribution, could yield a very high error.\n",
        "\n",
        "Such pitfalls can easily be avoided with a little bit of mindful selection and some validation to determine a good value for K.\n",
        "\n"
      ]
    }
  ]
}