{
  "nbformat": 4,
  "nbformat_minor": 0,
  "metadata": {
    "colab": {
      "name": "PCA_examples.ipynb",
      "provenance": [],
      "collapsed_sections": []
    },
    "kernelspec": {
      "name": "python3",
      "display_name": "Python 3"
    }
  },
  "cells": [
    {
      "cell_type": "markdown",
      "metadata": {
        "id": "PGW5wwb36a4P",
        "colab_type": "text"
      },
      "source": [
        "# PCA Examples\n",
        "\n",
        "Let's start with our implementations."
      ]
    },
    {
      "cell_type": "code",
      "metadata": {
        "id": "1jWf-ONC6ddj",
        "colab_type": "code",
        "colab": {}
      },
      "source": [
        "import numpy as np\n",
        "import pandas as pd\n",
        "from sklearn.decomposition import PCA\n",
        "from sklearn.preprocessing import StandardScaler\n",
        "import matplotlib.pyplot as plt"
      ],
      "execution_count": 0,
      "outputs": []
    },
    {
      "cell_type": "code",
      "metadata": {
        "id": "4SWjb6Fp6uoB",
        "colab_type": "code",
        "colab": {}
      },
      "source": [
        "def scratch_PCA(X, k):\n",
        "  demeaned_X= X - np.mean(X, axis=0)\n",
        "  #we now have to caculate the covariance matrix\n",
        "  cov_X= np.matmul(np.transpose(demeaned_X), demeaned_X)\n",
        "  sigma,V= np.linalg.eig(cov_X)\n",
        "  # you then select the k biggest eignevalues and their corresponding eigenvectors\n",
        "  return sigma[:k], V[:k]"
      ],
      "execution_count": 0,
      "outputs": []
    },
    {
      "cell_type": "code",
      "metadata": {
        "id": "l20Vk3gX69VD",
        "colab_type": "code",
        "colab": {}
      },
      "source": [
        "def sklearn_PCA(X, k):\n",
        "  # initialize pca with num of components (k)\n",
        "  pca = PCA(n_components=k)\n",
        "\n",
        "  # run pca on our data set\n",
        "  pca.fit(X)\n",
        "\n",
        "  # get our first k components from our solutions\n",
        "  variance = pca.explained_variance_[:k]\n",
        "  vectors = pca.components_[:k]\n",
        "  vectors = [np.asarray(vectors[i]) for i in range(len(vectors))]\n",
        "\n",
        "  return variance, vectors"
      ],
      "execution_count": 0,
      "outputs": []
    },
    {
      "cell_type": "markdown",
      "metadata": {
        "id": "OGLWn9WY_FhD",
        "colab_type": "text"
      },
      "source": [
        "We use a standard dataset (Iris) included with scikit-learn \n"
      ]
    },
    {
      "cell_type": "code",
      "metadata": {
        "id": "wcRSwDFz7BgN",
        "colab_type": "code",
        "outputId": "a3f08af9-7611-4351-b158-93e245453f33",
        "colab": {
          "base_uri": "https://localhost:8080/",
          "height": 204
        }
      },
      "source": [
        "url = \"https://archive.ics.uci.edu/ml/machine-learning-databases/iris/iris.data\"\n",
        "features = ['sepal length', 'sepal width', 'petal length', 'petal width']\n",
        "iris_df = pd.read_csv(url, names=['sepal length','sepal width','petal length',\n",
        "                                  'petal width','target'])\n",
        "\n",
        "iris_df.head()"
      ],
      "execution_count": 0,
      "outputs": [
        {
          "output_type": "execute_result",
          "data": {
            "text/html": [
              "<div>\n",
              "<style scoped>\n",
              "    .dataframe tbody tr th:only-of-type {\n",
              "        vertical-align: middle;\n",
              "    }\n",
              "\n",
              "    .dataframe tbody tr th {\n",
              "        vertical-align: top;\n",
              "    }\n",
              "\n",
              "    .dataframe thead th {\n",
              "        text-align: right;\n",
              "    }\n",
              "</style>\n",
              "<table border=\"1\" class=\"dataframe\">\n",
              "  <thead>\n",
              "    <tr style=\"text-align: right;\">\n",
              "      <th></th>\n",
              "      <th>sepal length</th>\n",
              "      <th>sepal width</th>\n",
              "      <th>petal length</th>\n",
              "      <th>petal width</th>\n",
              "      <th>target</th>\n",
              "    </tr>\n",
              "  </thead>\n",
              "  <tbody>\n",
              "    <tr>\n",
              "      <th>0</th>\n",
              "      <td>5.1</td>\n",
              "      <td>3.5</td>\n",
              "      <td>1.4</td>\n",
              "      <td>0.2</td>\n",
              "      <td>Iris-setosa</td>\n",
              "    </tr>\n",
              "    <tr>\n",
              "      <th>1</th>\n",
              "      <td>4.9</td>\n",
              "      <td>3.0</td>\n",
              "      <td>1.4</td>\n",
              "      <td>0.2</td>\n",
              "      <td>Iris-setosa</td>\n",
              "    </tr>\n",
              "    <tr>\n",
              "      <th>2</th>\n",
              "      <td>4.7</td>\n",
              "      <td>3.2</td>\n",
              "      <td>1.3</td>\n",
              "      <td>0.2</td>\n",
              "      <td>Iris-setosa</td>\n",
              "    </tr>\n",
              "    <tr>\n",
              "      <th>3</th>\n",
              "      <td>4.6</td>\n",
              "      <td>3.1</td>\n",
              "      <td>1.5</td>\n",
              "      <td>0.2</td>\n",
              "      <td>Iris-setosa</td>\n",
              "    </tr>\n",
              "    <tr>\n",
              "      <th>4</th>\n",
              "      <td>5.0</td>\n",
              "      <td>3.6</td>\n",
              "      <td>1.4</td>\n",
              "      <td>0.2</td>\n",
              "      <td>Iris-setosa</td>\n",
              "    </tr>\n",
              "  </tbody>\n",
              "</table>\n",
              "</div>"
            ],
            "text/plain": [
              "   sepal length  sepal width  petal length  petal width       target\n",
              "0           5.1          3.5           1.4          0.2  Iris-setosa\n",
              "1           4.9          3.0           1.4          0.2  Iris-setosa\n",
              "2           4.7          3.2           1.3          0.2  Iris-setosa\n",
              "3           4.6          3.1           1.5          0.2  Iris-setosa\n",
              "4           5.0          3.6           1.4          0.2  Iris-setosa"
            ]
          },
          "metadata": {
            "tags": []
          },
          "execution_count": 4
        }
      ]
    },
    {
      "cell_type": "code",
      "metadata": {
        "id": "XwbiA8CpGqRu",
        "colab_type": "code",
        "colab": {}
      },
      "source": [
        "# extract our data and labels\n",
        "X = iris_df.loc[:, features].values\n",
        "y = iris_df.loc[:,['target']].values\n",
        "X = StandardScaler().fit_transform(X)"
      ],
      "execution_count": 0,
      "outputs": []
    },
    {
      "cell_type": "markdown",
      "metadata": {
        "id": "Y3Foo6-MCJBS",
        "colab_type": "text"
      },
      "source": [
        "The dataset (iris) comes with several *features* and a target, which  \n",
        "corresponds to the classification for the row with the given values for each  \n",
        "feature.\n",
        "\n",
        "For PCA we just look at the features to determine the directions of maximum  \n",
        "variance, and then we can use our principal components to map back to the  \n",
        "targets.\n",
        "\n",
        "Another important note: we use standard scaler on our input X as PCA is not  \n",
        "scale invariant. In other words, by scaling all values by the same factor, our  \n",
        "results may change. Example as follows:\n",
        "\n",
        "### Effect of Scale on PCA:"
      ]
    },
    {
      "cell_type": "code",
      "metadata": {
        "id": "6pKF9E0wDB3C",
        "colab_type": "code",
        "outputId": "bd6ca1a8-6a45-4d31-e435-0675bc650d22",
        "colab": {
          "base_uri": "https://localhost:8080/",
          "height": 68
        }
      },
      "source": [
        "scale_ex = np.array([[1,-5],[-3,-8],[7, -3]])\n",
        "scale_ex"
      ],
      "execution_count": 0,
      "outputs": [
        {
          "output_type": "execute_result",
          "data": {
            "text/plain": [
              "array([[ 1, -5],\n",
              "       [-3, -8],\n",
              "       [ 7, -3]])"
            ]
          },
          "metadata": {
            "tags": []
          },
          "execution_count": 6
        }
      ]
    },
    {
      "cell_type": "code",
      "metadata": {
        "id": "YCOYPZPvDIaQ",
        "colab_type": "code",
        "outputId": "d3594252-ec98-48df-df58-eb6a0d34a6a5",
        "colab": {
          "base_uri": "https://localhost:8080/",
          "height": 51
        }
      },
      "source": [
        "sklearn_PCA(scale_ex, 2)"
      ],
      "execution_count": 0,
      "outputs": [
        {
          "output_type": "execute_result",
          "data": {
            "text/plain": [
              "(array([31.40128474,  0.26538192]),\n",
              " [array([0.89728145, 0.44145894]), array([-0.44145894,  0.89728145])])"
            ]
          },
          "metadata": {
            "tags": []
          },
          "execution_count": 7
        }
      ]
    },
    {
      "cell_type": "code",
      "metadata": {
        "id": "-8dDVqVNDUT1",
        "colab_type": "code",
        "outputId": "00cec12b-9031-4bf7-f9f8-85243cc07bdf",
        "colab": {
          "base_uri": "https://localhost:8080/",
          "height": 51
        }
      },
      "source": [
        "sklearn_PCA(2*scale_ex, 2)"
      ],
      "execution_count": 0,
      "outputs": [
        {
          "output_type": "execute_result",
          "data": {
            "text/plain": [
              "(array([125.60513897,   1.06152769]),\n",
              " [array([0.89728145, 0.44145894]), array([-0.44145894,  0.89728145])])"
            ]
          },
          "metadata": {
            "tags": []
          },
          "execution_count": 8
        }
      ]
    },
    {
      "cell_type": "markdown",
      "metadata": {
        "id": "xgSX-Dx_DlpT",
        "colab_type": "text"
      },
      "source": [
        "As we see above, the amount of variance captured by the first principal  \n",
        "component is not scaled by 2, but by the scalar squared.\n",
        "\n",
        "### Back to the iris dataset:\n",
        "\n",
        "After we obtain the principal components, we project the original data using  \n",
        "the principal component vectors.\n",
        "\n",
        "This projection demonstrates why PCA is dimension reductionality:"
      ]
    },
    {
      "cell_type": "code",
      "metadata": {
        "id": "EKGy6VZiDxDw",
        "colab_type": "code",
        "colab": {}
      },
      "source": [
        "variance, pc = sklearn_PCA(X, 2)\n",
        "projected = np.matmul(X, np.transpose(np.asarray(pc)))\n",
        "principalDf = pd.DataFrame(data = projected\n",
        "             , columns = ['principal component 1', 'principal component 2'])\n",
        "# add back the target\n",
        "finalDf = pd.concat([principalDf, iris_df[['target']]], axis = 1)"
      ],
      "execution_count": 0,
      "outputs": []
    },
    {
      "cell_type": "markdown",
      "metadata": {
        "id": "vRWgRQkcETbV",
        "colab_type": "text"
      },
      "source": [
        "## Visualization"
      ]
    },
    {
      "cell_type": "code",
      "metadata": {
        "id": "Z7Slg--PEWzd",
        "colab_type": "code",
        "outputId": "e605eeb1-537b-4be7-dc28-a92382f40f9c",
        "colab": {
          "base_uri": "https://localhost:8080/",
          "height": 523
        }
      },
      "source": [
        "fig = plt.figure(figsize = (8,8))\n",
        "ax = fig.add_subplot(1,1,1) \n",
        "ax.set_xlabel('Principal Component 1', fontsize = 15)\n",
        "ax.set_ylabel('Principal Component 2', fontsize = 15)\n",
        "ax.set_title('2 component PCA', fontsize = 20)\n",
        "targets = ['Iris-setosa', 'Iris-versicolor', 'Iris-virginica']\n",
        "colors = ['r', 'g', 'b']\n",
        "for target, color in zip(targets,colors):\n",
        "    indicesToKeep = finalDf['target'] == target\n",
        "    ax.scatter(finalDf.loc[indicesToKeep, 'principal component 1']\n",
        "               , finalDf.loc[indicesToKeep, 'principal component 2']\n",
        "               , c = color\n",
        "               , s = 50)\n",
        "ax.legend(targets)\n",
        "ax.grid()"
      ],
      "execution_count": 0,
      "outputs": [
        {
          "output_type": "display_data",
          "data": {
            "image/png": "[encoded data removed]",
            "text/plain": [
              "<Figure size 576x576 with 1 Axes>"
            ]
          },
          "metadata": {
            "tags": []
          }
        }
      ]
    },
    {
      "cell_type": "code",
      "metadata": {
        "id": "wBRySghVGOtL",
        "colab_type": "code",
        "outputId": "9169a3f0-344f-4359-a144-5766e365f08a",
        "colab": {
          "base_uri": "https://localhost:8080/",
          "height": 51
        }
      },
      "source": [
        "print(\"Variance explained by Principal Component 1: \" + str(variance[0]))\n",
        "print(\"Variance explained by Principal Component 2: \" + str(variance[1]))"
      ],
      "execution_count": 0,
      "outputs": [
        {
          "output_type": "stream",
          "text": [
            "Variance explained by Principal Component 1: 2.930353775589314\n",
            "Variance explained by Principal Component 2: 0.9274036215173412\n"
          ],
          "name": "stdout"
        }
      ]
    },
    {
      "cell_type": "markdown",
      "metadata": {
        "id": "U3hrm9mjGfbL",
        "colab_type": "text"
      },
      "source": [
        "As we see above, by using the first 2 principal components, we were able to  \n",
        "compress our dataset with 4 initial variables/features, into 2 features and  \n",
        "visualize it on a simple plot. We also see how variance factors into the split  \n",
        "of the principal components. The first principal component shows the best split  \n",
        "between the data, and very clearly sets apart the two plant species, despite  \n",
        "the PCA being carried out on data without any labels (knowledge of which  \n",
        "species a row belongs to). Accordingly, the first principal component also  \n",
        "captures the most variance of the original dataset."
      ]
    },
    {
      "cell_type": "markdown",
      "metadata": {
        "id": "YwdtGf8l6HPl",
        "colab_type": "text"
      },
      "source": [
        "Credit:\n",
        "\n",
        "Visualization: https://towardsdatascience.com/pca-using-python-scikit-learn-e653f8989e60"
      ]
    }
  ]
}