{
 "cells": [
  {
   "cell_type": "markdown",
   "metadata": {
    "colab_type": "text",
    "id": "8rA_OLWigA48"
   },
   "source": [
    "# CCA\n",
    "\n",
    "In PCA we looked at only the input X to carry out dimensionality reduction and  \n",
    "is unsupervised in that sense. CCA adds invariance and incorporates the labels  \n",
    "y into the analysis."
   ]
  },
  {
   "cell_type": "code",
   "execution_count": 0,
   "metadata": {
    "colab": {},
    "colab_type": "code",
    "id": "tegeb3hifZBH"
   },
   "outputs": [],
   "source": [
    "import numpy as np\n",
    "from sklearn.cross_decomposition import CCA"
   ]
  },
  {
   "cell_type": "code",
   "execution_count": 0,
   "metadata": {
    "colab": {
     "base_uri": "https://localhost:8080/",
     "height": 162
    },
    "colab_type": "code",
    "id": "F7OKdY3ajmR_",
    "outputId": "ca820988-1330-4ba9-c5be-49768deb0750"
   },
   "outputs": [
    {
     "name": "stdout",
     "output_type": "stream",
     "text": [
      "[[0. 0. 1.]\n",
      " [1. 0. 0.]\n",
      " [2. 2. 2.]\n",
      " [3. 5. 4.]]\n",
      "[[ 0.1 -0.2]\n",
      " [ 0.9  1.1]\n",
      " [ 6.2  5.9]\n",
      " [11.9 12.3]]\n"
     ]
    }
   ],
   "source": [
    "# some dummy data for showing the process of running CCA\n",
    "X = np.array([[0., 0., 1.], [1.,0.,0.], [2.,2.,2.], [3.,5.,4.]])\n",
    "y = np.array([[0.1, -0.2], [0.9, 1.1], [6.2, 5.9], [11.9, 12.3]])\n",
    "print(X)\n",
    "print(y)"
   ]
  },
  {
   "cell_type": "code",
   "execution_count": 0,
   "metadata": {
    "colab": {
     "base_uri": "https://localhost:8080/",
     "height": 35
    },
    "colab_type": "code",
    "id": "O1L8FWAVj7ym",
    "outputId": "65a5f608-c3dc-4fcf-d443-0492f9af4e91"
   },
   "outputs": [
    {
     "data": {
      "text/plain": [
       "CCA(copy=True, max_iter=500, n_components=1, scale=True, tol=1e-06)"
      ]
     },
     "execution_count": 3,
     "metadata": {
      "tags": []
     },
     "output_type": "execute_result"
    }
   ],
   "source": [
    "cca = CCA(n_components=1)\n",
    "cca.fit(X, y)"
   ]
  },
  {
   "cell_type": "code",
   "execution_count": 0,
   "metadata": {
    "colab": {
     "base_uri": "https://localhost:8080/",
     "height": 162
    },
    "colab_type": "code",
    "id": "0nUSujKJkB_a",
    "outputId": "1a8a95d3-f160-4c17-bb41-da36562ebe56"
   },
   "outputs": [
    {
     "name": "stdout",
     "output_type": "stream",
     "text": [
      "[[-1.3373174 ]\n",
      " [-1.10847164]\n",
      " [ 0.40763151]\n",
      " [ 2.03815753]]\n",
      "[[-0.85511537]\n",
      " [-0.70878547]\n",
      " [ 0.26065014]\n",
      " [ 1.3032507 ]]\n"
     ]
    }
   ],
   "source": [
    "# more useful than simply the fit, the actual transformation from our computed CCA\n",
    "X_c, y_c = cca.fit_transform(X, y)\n",
    "print(X_c)\n",
    "print(y_c)"
   ]
  },
  {
   "cell_type": "markdown",
   "metadata": {
    "colab_type": "text",
    "id": "fLDo_C5MkeQK"
   },
   "source": [
    "To demonstrate why CCA is more powerful, let's examine scaling the data."
   ]
  },
  {
   "cell_type": "code",
   "execution_count": 0,
   "metadata": {
    "colab": {
     "base_uri": "https://localhost:8080/",
     "height": 162
    },
    "colab_type": "code",
    "id": "r8DE1G7QkI0o",
    "outputId": "7180ec70-e4c4-4270-b804-c0af6f8a2265"
   },
   "outputs": [
    {
     "name": "stdout",
     "output_type": "stream",
     "text": [
      "[[-1.3373174 ]\n",
      " [-1.10847164]\n",
      " [ 0.40763151]\n",
      " [ 2.03815753]]\n",
      "[[-0.85511537]\n",
      " [-0.70878547]\n",
      " [ 0.26065014]\n",
      " [ 1.3032507 ]]\n"
     ]
    }
   ],
   "source": [
    "X_c, y_c = cca.fit_transform(2*X, 2*y)\n",
    "print(X_c)\n",
    "print(y_c)"
   ]
  },
  {
   "cell_type": "markdown",
   "metadata": {
    "colab_type": "text",
    "id": "zMkhVzU5k9mT"
   },
   "source": [
    "As we see, scaling both by 2 doesn't change the transform at all. Going further:"
   ]
  },
  {
   "cell_type": "code",
   "execution_count": 0,
   "metadata": {
    "colab": {
     "base_uri": "https://localhost:8080/",
     "height": 162
    },
    "colab_type": "code",
    "id": "K7leKDOvk1K7",
    "outputId": "73f27a90-cc0d-44a4-ab9d-e520a957efff"
   },
   "outputs": [
    {
     "name": "stdout",
     "output_type": "stream",
     "text": [
      "[[-1.3373174 ]\n",
      " [-1.10847164]\n",
      " [ 0.40763151]\n",
      " [ 2.03815753]]\n",
      "[[-0.85511537]\n",
      " [-0.70878547]\n",
      " [ 0.26065014]\n",
      " [ 1.3032507 ]]\n"
     ]
    }
   ],
   "source": [
    "X_c, y_c = cca.fit_transform(2*X, 3*y)\n",
    "print(X_c)\n",
    "print(y_c)"
   ]
  },
  {
   "cell_type": "markdown",
   "metadata": {
    "colab_type": "text",
    "id": "rGdw8Q2RlHsY"
   },
   "source": [
    "Even scaling separately, the transformation remains the same. This shows a very  \n",
    "important porperty of CCA - it's invariant to affine transformations (scaling  \n",
    "or addition).\n",
    "\n",
    "Proof:"
   ]
  },
  {
   "cell_type": "code",
   "execution_count": 0,
   "metadata": {
    "colab": {
     "base_uri": "https://localhost:8080/",
     "height": 255
    },
    "colab_type": "code",
    "id": "NeCjZCT7lsgf",
    "outputId": "2d476279-f375-4c47-ff30-c5768e9ebb7f"
   },
   "outputs": [
    {
     "data": {
      "image/png": "[encoded data removed]",
      "text/plain": [
       "<IPython.core.display.Image object>"
      ]
     },
     "execution_count": 8,
     "metadata": {
      "tags": []
     },
     "output_type": "execute_result"
    }
   ],
   "source": [
    "from IPython.display import Image\n",
    "Image(filename=\"/content/data/screenshot.PNG\") "
   ]
  },
  {
   "cell_type": "markdown",
   "metadata": {
    "colab_type": "text",
    "id": "k0h9Mdj2lpQD"
   },
   "source": [
    "Proof Source: EECS 189 Course Notes"
   ]
  }
 ],
 "metadata": {
  "colab": {
   "name": "CCA.ipynb",
   "provenance": [],
   "toc_visible": true
  },
  "kernelspec": {
   "display_name": "Python 3",
   "language": "python",
   "name": "python3"
  },
  "language_info": {
   "codemirror_mode": {
    "name": "ipython",
    "version": 3
   },
   "file_extension": ".py",
   "mimetype": "text/x-python",
   "name": "python",
   "nbconvert_exporter": "python",
   "pygments_lexer": "ipython3",
   "version": "3.7.4"
  }
 },
 "nbformat": 4,
 "nbformat_minor": 1
}
