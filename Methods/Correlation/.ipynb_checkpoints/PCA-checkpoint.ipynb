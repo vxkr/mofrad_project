{
 "cells": [
  {
   "cell_type": "markdown",
   "metadata": {},
   "source": [
    "## Principal component analysis\n",
    "\n",
    "\n",
    "Input: a matrix X, unlabeled data matrix\n",
    "\n",
    "\n",
    "Output: k directions of maximum variation\n"
   ]
  },
  {
   "cell_type": "code",
   "execution_count": 4,
   "metadata": {},
   "outputs": [],
   "source": [
    "import numpy as np"
   ]
  },
  {
   "cell_type": "code",
   "execution_count": 5,
   "metadata": {},
   "outputs": [],
   "source": [
    "def scratch_PCA(X, k):\n",
    "    demeaned_X= X - np.mean(X, axis=0)\n",
    "    #we now have to caculate the covariance matrix\n",
    "    cov_X= np.cov(demeaned_X)\n",
    "    sigma,V= np.linalg.eig(cov_X)\n",
    "    # you then select the k biggest eignevalues and their corresponding eigenvectors\n",
    "    return sigma[:k], V[:k]"
   ]
  },
  {
   "cell_type": "markdown",
   "metadata": {},
   "source": [
    "### Explanation\n",
    "\n",
    "In PCA we choose the first k components of the SVD of a matrix\n",
    "\n",
    "In a nutshell, SVD represents the breakdown of the input into a sum of rank 1 matrices.\n",
    "\n",
    "By ordering the variance (the sigma values) by high to low, we capture the largest amount of variance in the first k components.\n",
    "\n",
    "As we increase k to the rank of the input, we fully capture the data matrix.\n",
    "\n",
    "#### Mathematically:\n",
    "\n",
    "SVD is represented as U * S * V.T\n",
    "\n",
    "* U - eigenvectors of X @ X.T\n",
    "* V - eigenvectors of X.T @ X\n",
    "* S - sigma squared = eigenvalues of both\n",
    "\n",
    "PCA uses the first k values of S and the first k vectors of V"
   ]
  },
  {
   "cell_type": "code",
   "execution_count": null,
   "metadata": {},
   "outputs": [],
   "source": []
  }
 ],
 "metadata": {
  "kernelspec": {
   "display_name": "Python 3",
   "language": "python",
   "name": "python3"
  },
  "language_info": {
   "codemirror_mode": {
    "name": "ipython",
    "version": 3
   },
   "file_extension": ".py",
   "mimetype": "text/x-python",
   "name": "python",
   "nbconvert_exporter": "python",
   "pygments_lexer": "ipython3",
   "version": "3.7.5"
  }
 },
 "nbformat": 4,
 "nbformat_minor": 2
}
