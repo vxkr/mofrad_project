{
 "cells": [
  {
   "cell_type": "code",
   "execution_count": 1,
   "metadata": {},
   "outputs": [],
   "source": [
    "# Total least squares assumes corruption in all variables, i.e both in input and output data\n",
    "#a great way to solve for the solution is by manipulating the k+1th singluar value of the SVD decomposition of [A,b]\n",
    "import numpy as np\n",
    "def TLS(A,b):\n",
    "    svd_matrix= np.vstack((A.T,b)).T\n",
    "    U,sigma,V_transpose= np.linalg.svd(svd_matrix)\n",
    "    V= V_transpose.T\n",
    "    split= A.shape[1]\n",
    "    Vyy= V[split:,split:]\n",
    "    Vxy= V[:split,split:]\n",
    "    sol_tls= -Vxy/Vyy\n",
    "#now we can also return the denoised A and b as well\n",
    "    V_split= V[:,split:]\n",
    "    A_error= np.matmul(svd_matrix,V_split)\n",
    "    A_error= -np.matmul(A_error,V_split.T)\n",
    "    A_e= A_error[:,:split]\n",
    "    A_tls= np.sum(A,A_e)\n",
    "    b_tls= np.matmul(A_tls,sol_tls)\n",
    "    return sol_tls,A_tls,b_tls"
   ]
  }
 ],
 "metadata": {
  "kernelspec": {
   "display_name": "Python 3",
   "language": "python",
   "name": "python3"
  },
  "language_info": {
   "codemirror_mode": {
    "name": "ipython",
    "version": 3
   },
   "file_extension": ".py",
   "mimetype": "text/x-python",
   "name": "python",
   "nbconvert_exporter": "python",
   "pygments_lexer": "ipython3",
   "version": "3.7.0"
  }
 },
 "nbformat": 4,
 "nbformat_minor": 2
}
