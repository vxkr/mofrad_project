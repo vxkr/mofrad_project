{
 "cells": [
  {
   "cell_type": "code",
   "execution_count": 1,
   "metadata": {},
   "outputs": [],
   "source": [
    "#this is a breakdown of principal component analysis, imagine we have a matrix X that after projection into a space \n",
    "#leads to the matrix Z\n",
    "import numpy as np\n",
    "def PCA(X):\n",
    "    demeaned_X= X - np.mean(X, axis=0)\n",
    "    #we now have to caculate the covariance matrix\n",
    "    cov_X= np.cov(demeaned_X)\n",
    "    U,sigma,V= np.linalg.svd(cov_X)\n",
    "    # you then select the k biggest eignevalues and their corresponding eigenvectors \n",
    "  "
   ]
  }
 ],
 "metadata": {
  "kernelspec": {
   "display_name": "Python 3",
   "language": "python",
   "name": "python3"
  },
  "language_info": {
   "codemirror_mode": {
    "name": "ipython",
    "version": 3
   },
   "file_extension": ".py",
   "mimetype": "text/x-python",
   "name": "python",
   "nbconvert_exporter": "python",
   "pygments_lexer": "ipython3",
   "version": "3.7.0"
  }
 },
 "nbformat": 4,
 "nbformat_minor": 2
}
