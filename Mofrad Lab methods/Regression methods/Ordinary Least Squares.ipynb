{
 "cells": [
  {
   "cell_type": "code",
   "execution_count": 6,
   "metadata": {},
   "outputs": [],
   "source": [
    "#this method is an ordinary least square solvers, good for datasets with uniform data, no need for reguralization\n",
    "import numpy as np\n",
    "from numpy.linalg import matrix_rank\n",
    "def OLS(A,b):\n",
    "    #solving the equation Ax=b\n",
    "    if (matrix_rank(np.matmul(A.T,A)) != A.shape[1]):\n",
    "        print(\"Matrix times its tranpoise is not full rank\")\n",
    "    lhs= np.matmul(A.T,A)\n",
    "    rhs= np.matmul(A.T,b)\n",
    "    x=np.matmul(np.linalg.inv(lhs),rhs)\n",
    "    return x"
   ]
  }
 ],
 "metadata": {
  "kernelspec": {
   "display_name": "Python 3",
   "language": "python",
   "name": "python3"
  },
  "language_info": {
   "codemirror_mode": {
    "name": "ipython",
    "version": 3
   },
   "file_extension": ".py",
   "mimetype": "text/x-python",
   "name": "python",
   "nbconvert_exporter": "python",
   "pygments_lexer": "ipython3",
   "version": "3.7.0"
  }
 },
 "nbformat": 4,
 "nbformat_minor": 2
}
