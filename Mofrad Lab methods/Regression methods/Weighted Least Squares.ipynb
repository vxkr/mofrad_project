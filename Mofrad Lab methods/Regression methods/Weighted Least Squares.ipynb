{
 "cells": [
  {
   "cell_type": "code",
   "execution_count": 2,
   "metadata": {},
   "outputs": [],
   "source": [
    "#weighted least squares solves for the same Ax=b problem, but with a weight term w on either side\n",
    "import numpy as np\n",
    "def WLS(A,b,w):\n",
    "    #this code can be solved using a weighted A and b and just putting it through regular OLS, but for the sake of clarity, I \n",
    "    #will be writing it out in full\n",
    "    weighted_A= np.sqrt(w)*A\n",
    "    weighted_b= np.sqrt(w)*b\n",
    "    lhs= np.matmul(weighted_A.T,weighted_A)\n",
    "    rhs= np.matmul(weighted_A.T,weighted_b)\n",
    "    x= np.matmul(np.linalg.inv(lhs),rhs)\n",
    "    return x\n",
    "#as we can observe from above, this is simply a OLS solution with weights on the A and b components, determine from a weight\n",
    "#vector w, thatr can be used to amnipulate the data"
   ]
  }
 ],
 "metadata": {
  "kernelspec": {
   "display_name": "Python 3",
   "language": "python",
   "name": "python3"
  },
  "language_info": {
   "codemirror_mode": {
    "name": "ipython",
    "version": 3
   },
   "file_extension": ".py",
   "mimetype": "text/x-python",
   "name": "python",
   "nbconvert_exporter": "python",
   "pygments_lexer": "ipython3",
   "version": "3.7.0"
  }
 },
 "nbformat": 4,
 "nbformat_minor": 2
}
