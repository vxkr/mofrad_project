{
 "cells": [
  {
   "cell_type": "code",
   "execution_count": 2,
   "metadata": {},
   "outputs": [],
   "source": [
    "#This regression method is more apt for when a certain data point is an anomaly and may skew the results\n",
    "#we add a reguralization paramater that helps control that\n",
    "import numpy as np\n",
    "def RidgeRegression(A,b,lambda_):\n",
    "    #lambda_ here is the reguralization parameter,also solving Ax=b\n",
    "    lhs= np.sum(np.matmul(A.T,A),(lambda_*np.eye(A.shape[1])))\n",
    "    rhs= np.matmul(A.T,b)\n",
    "    x= np.matmul(np.linalg.inv(lhs),rhs)\n",
    "    return x"
   ]
  }
 ],
 "metadata": {
  "kernelspec": {
   "display_name": "Python 3",
   "language": "python",
   "name": "python3"
  },
  "language_info": {
   "codemirror_mode": {
    "name": "ipython",
    "version": 3
   },
   "file_extension": ".py",
   "mimetype": "text/x-python",
   "name": "python",
   "nbconvert_exporter": "python",
   "pygments_lexer": "ipython3",
   "version": "3.7.0"
  }
 },
 "nbformat": 4,
 "nbformat_minor": 2
}
